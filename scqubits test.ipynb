{
 "cells": [
  {
   "cell_type": "code",
   "execution_count": 2,
   "id": "ecb83eab",
   "metadata": {},
   "outputs": [
    {
     "name": "stdout",
     "output_type": "stream",
     "text": [
      "======================================================= test session starts ========================================================\n",
      "platform win32 -- Python 3.9.6, pytest-7.4.2, pluggy-1.0.0 -- c:\\users\\anant sharma\\appdata\\local\\programs\\python\\python39\\python.exe\n",
      "cachedir: .pytest_cache\n",
      "rootdir: c:\\users\\anant sharma\n",
      "collecting ... collected 122 items\n",
      "\n",
      "..\\..\\..\\appdata\\local\\programs\\python\\python39\\lib\\site-packages\\scqubits\\tests\\test_centraldispatch.py::TestCentralDispatch::test_register "
     ]
    },
    {
     "data": {
      "application/vnd.jupyter.widget-view+json": {
       "model_id": "4c244cd1341948b5823da8451bc24d0c",
       "version_major": 2,
       "version_minor": 0
      },
      "text/plain": [
       "Row(children=[Row(children=[ValidatedNumberField(class_='ml-2 py-0', dense=True, error=False, filled=True, lab…"
      ]
     },
     "metadata": {},
     "output_type": "display_data"
    },
    {
     "name": "stderr",
     "output_type": "stream",
     "text": [
      "DEBUG:scqubits.core.central_dispatch:Registering HilbertSpace for QUANTUMSYSTEM_UPDATE. welcome.\n",
      "DEBUG:scqubits.core.central_dispatch:Registering HilbertSpace for INTERACTIONTERM_UPDATE. welcome.\n",
      "DEBUG:scqubits.core.central_dispatch:Registering HilbertSpace for INTERACTIONLIST_UPDATE. welcome.\n"
     ]
    },
    {
     "name": "stdout",
     "output_type": "stream",
     "text": [
      "PASSED [  0%]\n",
      "..\\..\\..\\appdata\\local\\programs\\python\\python39\\lib\\site-packages\\scqubits\\tests\\test_centraldispatch.py::TestCentralDispatch::test_unregister "
     ]
    },
    {
     "data": {
      "application/vnd.jupyter.widget-view+json": {
       "model_id": "a1c449ea7b944d7c8b0d272bc0409eca",
       "version_major": 2,
       "version_minor": 0
      },
      "text/plain": [
       "Row(children=[Row(children=[ValidatedNumberField(class_='ml-2 py-0', dense=True, error=False, filled=True, lab…"
      ]
     },
     "metadata": {},
     "output_type": "display_data"
    },
    {
     "name": "stderr",
     "output_type": "stream",
     "text": [
      "DEBUG:scqubits.core.central_dispatch:Unregistering HilbertSpace. au revoir.\n"
     ]
    },
    {
     "name": "stdout",
     "output_type": "stream",
     "text": [
      "PASSED [  1%]\n",
      "..\\..\\..\\appdata\\local\\programs\\python\\python39\\lib\\site-packages\\scqubits\\tests\\test_centraldispatch.py::TestCentralDispatch::test_qubit_broadcast "
     ]
    },
    {
     "data": {
      "application/vnd.jupyter.widget-view+json": {
       "model_id": "ba361572f0154ff897b8127aca47b1b5",
       "version_major": 2,
       "version_minor": 0
      },
      "text/plain": [
       "Row(children=[Row(children=[ValidatedNumberField(class_='ml-2 py-0', dense=True, error=False, filled=True, lab…"
      ]
     },
     "metadata": {},
     "output_type": "display_data"
    },
    {
     "name": "stderr",
     "output_type": "stream",
     "text": [
      "DEBUG:scqubits.core.central_dispatch:Client Transmon broadcasting QUANTUMSYSTEM_UPDATE\n",
      "DEBUG:scqubits.core.central_dispatch:Central dispatch calling HilbertSpace about QUANTUMSYSTEM_UPDATE.\n"
     ]
    },
    {
     "name": "stdout",
     "output_type": "stream",
     "text": [
      "PASSED [  2%]\n",
      "..\\..\\..\\appdata\\local\\programs\\python\\python39\\lib\\site-packages\\scqubits\\tests\\test_centraldispatch.py::TestCentralDispatch::test_fullchain "
     ]
    },
    {
     "data": {
      "application/vnd.jupyter.widget-view+json": {
       "model_id": "e115f8406bc94b8288af7fad62de42fc",
       "version_major": 2,
       "version_minor": 0
      },
      "text/plain": [
       "Row(children=[Row(children=[ValidatedNumberField(class_='ml-2 py-0', dense=True, error=False, filled=True, lab…"
      ]
     },
     "metadata": {},
     "output_type": "display_data"
    },
    {
     "data": {
      "application/vnd.jupyter.widget-view+json": {
       "model_id": "56d3e66cefad4a4b834bcde40e3b133c",
       "version_major": 2,
       "version_minor": 0
      },
      "text/plain": [
       "Row(children=[Row(children=[ValidatedNumberField(class_='ml-2 py-0', dense=True, error=False, filled=True, lab…"
      ]
     },
     "metadata": {},
     "output_type": "display_data"
    },
    {
     "data": {
      "application/vnd.jupyter.widget-view+json": {
       "model_id": "",
       "version_major": 2,
       "version_minor": 0
      },
      "text/plain": [
       "Bare spectra:   0%|          | 0/3 [00:00<?, ?it/s]"
      ]
     },
     "metadata": {},
     "output_type": "display_data"
    },
    {
     "data": {
      "application/vnd.jupyter.widget-view+json": {
       "model_id": "",
       "version_major": 2,
       "version_minor": 0
      },
      "text/plain": [
       "Bare spectra:   0%|          | 0/3 [00:00<?, ?it/s]"
      ]
     },
     "metadata": {},
     "output_type": "display_data"
    },
    {
     "data": {
      "application/vnd.jupyter.widget-view+json": {
       "model_id": "",
       "version_major": 2,
       "version_minor": 0
      },
      "text/plain": [
       "Dressed spectrum:   0%|          | 0/3 [00:00<?, ?it/s]"
      ]
     },
     "metadata": {},
     "output_type": "display_data"
    },
    {
     "name": "stderr",
     "output_type": "stream",
     "text": [
      "DEBUG:scqubits.core.central_dispatch:Client Transmon broadcasting QUANTUMSYSTEM_UPDATE\n",
      "DEBUG:scqubits.core.central_dispatch:Central dispatch calling HilbertSpace about QUANTUMSYSTEM_UPDATE.\n",
      "DEBUG:scqubits.core.central_dispatch:Central dispatch calling HilbertSpace about QUANTUMSYSTEM_UPDATE.\n",
      "DEBUG:scqubits.core.central_dispatch:Client HilbertSpace broadcasting HILBERTSPACE_UPDATE\n",
      "DEBUG:scqubits.core.central_dispatch:Central dispatch calling ParameterSweep about HILBERTSPACE_UPDATE.\n"
     ]
    },
    {
     "name": "stdout",
     "output_type": "stream",
     "text": [
      "PASSED [  3%]\n",
      "..\\..\\..\\appdata\\local\\programs\\python\\python39\\lib\\site-packages\\scqubits\\tests\\test_circuit.py::TestCircuit::test_sym_lagrangian PASSED [  4%]\n",
      "..\\..\\..\\appdata\\local\\programs\\python\\python39\\lib\\site-packages\\scqubits\\tests\\test_circuit.py::TestCircuit::test_zero_pi_discretized PASSED [  4%]\n",
      "..\\..\\..\\appdata\\local\\programs\\python\\python39\\lib\\site-packages\\scqubits\\tests\\test_circuit.py::TestCircuit::test_zero_pi_harmonic PASSED [  5%]\n",
      "..\\..\\..\\appdata\\local\\programs\\python\\python39\\lib\\site-packages\\scqubits\\tests\\test_circuit.py::TestCircuit::test_eigenvals_harmonic PASSED [  6%]\n",
      "..\\..\\..\\appdata\\local\\programs\\python\\python39\\lib\\site-packages\\scqubits\\tests\\test_circuit.py::TestCircuit::test_eigenvals_discretized PASSED [  7%]\n",
      "..\\..\\..\\appdata\\local\\programs\\python\\python39\\lib\\site-packages\\scqubits\\tests\\test_circuit.py::TestCircuit::test_harmonic_oscillator PASSED [  8%]\n",
      "..\\..\\..\\appdata\\local\\programs\\python\\python39\\lib\\site-packages\\scqubits\\tests\\test_circuit.py::TestCircuit::test_param_sweep "
     ]
    },
    {
     "data": {
      "application/vnd.jupyter.widget-view+json": {
       "model_id": "",
       "version_major": 2,
       "version_minor": 0
      },
      "text/plain": [
       "Spectral data:   0%|          | 0/11 [00:00<?, ?it/s]"
      ]
     },
     "metadata": {},
     "output_type": "display_data"
    },
    {
     "name": "stdout",
     "output_type": "stream",
     "text": [
      "PASSED [  9%]\n",
      "..\\..\\..\\appdata\\local\\programs\\python\\python39\\lib\\site-packages\\scqubits\\tests\\test_circuit_plot.py::test_plot_wf PASSED    [  9%]\n",
      "..\\..\\..\\appdata\\local\\programs\\python\\python39\\lib\\site-packages\\scqubits\\tests\\test_circuit_plot.py::test_plot_potential PASSED [ 10%]\n",
      "..\\..\\..\\appdata\\local\\programs\\python\\python39\\lib\\site-packages\\scqubits\\tests\\test_cos2phiqubit.py::TestCos2PhiQubit::test_file_io "
     ]
    },
    {
     "data": {
      "application/vnd.jupyter.widget-view+json": {
       "model_id": "2ca877ba21b744a39d03587cd3aa2d99",
       "version_major": 2,
       "version_minor": 0
      },
      "text/plain": [
       "Row(children=[Row(children=[ValidatedNumberField(class_='ml-2 py-0', dense=True, error=False, filled=True, lab…"
      ]
     },
     "metadata": {},
     "output_type": "display_data"
    },
    {
     "name": "stdout",
     "output_type": "stream",
     "text": [
      "PASSED [ 11%]\n",
      "..\\..\\..\\appdata\\local\\programs\\python\\python39\\lib\\site-packages\\scqubits\\tests\\test_cos2phiqubit.py::TestCos2PhiQubit::test_hamiltonian_is_hermitian PASSED [ 12%]\n",
      "..\\..\\..\\appdata\\local\\programs\\python\\python39\\lib\\site-packages\\scqubits\\tests\\test_cos2phiqubit.py::TestCos2PhiQubit::test_eigenvals PASSED [ 13%]\n",
      "..\\..\\..\\appdata\\local\\programs\\python\\python39\\lib\\site-packages\\scqubits\\tests\\test_cos2phiqubit.py::TestCos2PhiQubit::test_eigenvecs PASSED [ 13%]\n",
      "..\\..\\..\\appdata\\local\\programs\\python\\python39\\lib\\site-packages\\scqubits\\tests\\test_cos2phiqubit.py::TestCos2PhiQubit::test_plot_wavefunction PASSED [ 14%]\n",
      "..\\..\\..\\appdata\\local\\programs\\python\\python39\\lib\\site-packages\\scqubits\\tests\\test_cos2phiqubit.py::TestCos2PhiQubit::test_plot_evals_vs_paramvals "
     ]
    },
    {
     "data": {
      "application/vnd.jupyter.widget-view+json": {
       "model_id": "",
       "version_major": 2,
       "version_minor": 0
      },
      "text/plain": [
       "Spectral data:   0%|          | 0/5 [00:00<?, ?it/s]"
      ]
     },
     "metadata": {},
     "output_type": "display_data"
    },
    {
     "name": "stdout",
     "output_type": "stream",
     "text": [
      "PASSED [ 15%]\n",
      "..\\..\\..\\appdata\\local\\programs\\python\\python39\\lib\\site-packages\\scqubits\\tests\\test_cos2phiqubit.py::TestCos2PhiQubit::test_get_spectrum_vs_paramvals "
     ]
    },
    {
     "data": {
      "application/vnd.jupyter.widget-view+json": {
       "model_id": "",
       "version_major": 2,
       "version_minor": 0
      },
      "text/plain": [
       "Spectral data:   0%|          | 0/3 [00:00<?, ?it/s]"
      ]
     },
     "metadata": {},
     "output_type": "display_data"
    },
    {
     "name": "stdout",
     "output_type": "stream",
     "text": [
      "PASSED [ 16%]\n",
      "..\\..\\..\\appdata\\local\\programs\\python\\python39\\lib\\site-packages\\scqubits\\tests\\test_cos2phiqubit.py::TestCos2PhiQubit::test_matrixelement_table PASSED [ 17%]\n",
      "..\\..\\..\\appdata\\local\\programs\\python\\python39\\lib\\site-packages\\scqubits\\tests\\test_cos2phiqubit.py::TestCos2PhiQubit::test_plot_matrixelements PASSED [ 18%]\n",
      "..\\..\\..\\appdata\\local\\programs\\python\\python39\\lib\\site-packages\\scqubits\\tests\\test_cos2phiqubit.py::TestCos2PhiQubit::test_print_matrixelements PASSED [ 18%]\n",
      "..\\..\\..\\appdata\\local\\programs\\python\\python39\\lib\\site-packages\\scqubits\\tests\\test_cos2phiqubit.py::TestCos2PhiQubit::test_plot_matelem_vs_paramvals "
     ]
    },
    {
     "data": {
      "application/vnd.jupyter.widget-view+json": {
       "model_id": "",
       "version_major": 2,
       "version_minor": 0
      },
      "text/plain": [
       "Spectral data:   0%|          | 0/5 [00:00<?, ?it/s]"
      ]
     },
     "metadata": {},
     "output_type": "display_data"
    },
    {
     "name": "stdout",
     "output_type": "stream",
     "text": [
      "PASSED [ 19%]\n",
      "..\\..\\..\\appdata\\local\\programs\\python\\python39\\lib\\site-packages\\scqubits\\tests\\test_cos2phiqubit.py::TestCos2PhiQubit::test_plot_potential PASSED [ 20%]\n",
      "..\\..\\..\\appdata\\local\\programs\\python\\python39\\lib\\site-packages\\scqubits\\tests\\test_explorer.py::test_explorer FAILED       [ 21%]\n",
      "..\\..\\..\\appdata\\local\\programs\\python\\python39\\lib\\site-packages\\scqubits\\tests\\test_fluxonium.py::TestFluxonium::test_file_io "
     ]
    },
    {
     "data": {
      "application/vnd.jupyter.widget-view+json": {
       "model_id": "2877ed950ccb41eea79753b449555e97",
       "version_major": 2,
       "version_minor": 0
      },
      "text/plain": [
       "Row(children=[Row(children=[ValidatedNumberField(class_='ml-2 py-0', dense=True, error=False, filled=True, lab…"
      ]
     },
     "metadata": {},
     "output_type": "display_data"
    },
    {
     "name": "stdout",
     "output_type": "stream",
     "text": [
      "PASSED [ 22%]\n",
      "..\\..\\..\\appdata\\local\\programs\\python\\python39\\lib\\site-packages\\scqubits\\tests\\test_fluxonium.py::TestFluxonium::test_hamiltonian_is_hermitian PASSED [ 22%]\n",
      "..\\..\\..\\appdata\\local\\programs\\python\\python39\\lib\\site-packages\\scqubits\\tests\\test_fluxonium.py::TestFluxonium::test_eigenvals PASSED [ 23%]\n",
      "..\\..\\..\\appdata\\local\\programs\\python\\python39\\lib\\site-packages\\scqubits\\tests\\test_fluxonium.py::TestFluxonium::test_eigenvecs PASSED [ 24%]\n",
      "..\\..\\..\\appdata\\local\\programs\\python\\python39\\lib\\site-packages\\scqubits\\tests\\test_fluxonium.py::TestFluxonium::test_plot_wavefunction PASSED [ 25%]\n",
      "..\\..\\..\\appdata\\local\\programs\\python\\python39\\lib\\site-packages\\scqubits\\tests\\test_fluxonium.py::TestFluxonium::test_plot_evals_vs_paramvals "
     ]
    },
    {
     "data": {
      "application/vnd.jupyter.widget-view+json": {
       "model_id": "",
       "version_major": 2,
       "version_minor": 0
      },
      "text/plain": [
       "Spectral data:   0%|          | 0/50 [00:00<?, ?it/s]"
      ]
     },
     "metadata": {},
     "output_type": "display_data"
    },
    {
     "name": "stdout",
     "output_type": "stream",
     "text": [
      "PASSED [ 26%]\n",
      "..\\..\\..\\appdata\\local\\programs\\python\\python39\\lib\\site-packages\\scqubits\\tests\\test_fluxonium.py::TestFluxonium::test_get_spectrum_vs_paramvals "
     ]
    },
    {
     "data": {
      "application/vnd.jupyter.widget-view+json": {
       "model_id": "",
       "version_major": 2,
       "version_minor": 0
      },
      "text/plain": [
       "Spectral data:   0%|          | 0/51 [00:00<?, ?it/s]"
      ]
     },
     "metadata": {},
     "output_type": "display_data"
    },
    {
     "name": "stdout",
     "output_type": "stream",
     "text": [
      "PASSED [ 27%]\n",
      "..\\..\\..\\appdata\\local\\programs\\python\\python39\\lib\\site-packages\\scqubits\\tests\\test_fluxonium.py::TestFluxonium::test_matrixelement_table PASSED [ 27%]\n",
      "..\\..\\..\\appdata\\local\\programs\\python\\python39\\lib\\site-packages\\scqubits\\tests\\test_fluxonium.py::TestFluxonium::test_plot_matrixelements PASSED [ 28%]\n",
      "..\\..\\..\\appdata\\local\\programs\\python\\python39\\lib\\site-packages\\scqubits\\tests\\test_fluxonium.py::TestFluxonium::test_print_matrixelements PASSED [ 29%]\n",
      "..\\..\\..\\appdata\\local\\programs\\python\\python39\\lib\\site-packages\\scqubits\\tests\\test_fluxonium.py::TestFluxonium::test_plot_matelem_vs_paramvals "
     ]
    },
    {
     "data": {
      "application/vnd.jupyter.widget-view+json": {
       "model_id": "",
       "version_major": 2,
       "version_minor": 0
      },
      "text/plain": [
       "Spectral data:   0%|          | 0/50 [00:00<?, ?it/s]"
      ]
     },
     "metadata": {},
     "output_type": "display_data"
    },
    {
     "name": "stdout",
     "output_type": "stream",
     "text": [
      "PASSED [ 30%]\n",
      "..\\..\\..\\appdata\\local\\programs\\python\\python39\\lib\\site-packages\\scqubits\\tests\\test_fluxonium.py::TestFluxonium::test_plot_potential SKIPPED [ 31%]\n",
      "..\\..\\..\\appdata\\local\\programs\\python\\python39\\lib\\site-packages\\scqubits\\tests\\test_fluxqubit.py::TestFluxQubit::test_file_io "
     ]
    },
    {
     "data": {
      "application/vnd.jupyter.widget-view+json": {
       "model_id": "9c13f7c10f0f4275915d0b5bd2c60cdd",
       "version_major": 2,
       "version_minor": 0
      },
      "text/plain": [
       "Row(children=[Row(children=[ValidatedNumberField(class_='ml-2 py-0', dense=True, error=False, filled=True, lab…"
      ]
     },
     "metadata": {},
     "output_type": "display_data"
    },
    {
     "name": "stdout",
     "output_type": "stream",
     "text": [
      "PASSED [ 31%]\n",
      "..\\..\\..\\appdata\\local\\programs\\python\\python39\\lib\\site-packages\\scqubits\\tests\\test_fluxqubit.py::TestFluxQubit::test_hamiltonian_is_hermitian PASSED [ 32%]\n",
      "..\\..\\..\\appdata\\local\\programs\\python\\python39\\lib\\site-packages\\scqubits\\tests\\test_fluxqubit.py::TestFluxQubit::test_eigenvals PASSED [ 33%]\n",
      "..\\..\\..\\appdata\\local\\programs\\python\\python39\\lib\\site-packages\\scqubits\\tests\\test_fluxqubit.py::TestFluxQubit::test_eigenvecs PASSED [ 34%]\n",
      "..\\..\\..\\appdata\\local\\programs\\python\\python39\\lib\\site-packages\\scqubits\\tests\\test_fluxqubit.py::TestFluxQubit::test_plot_wavefunction PASSED [ 35%]\n",
      "..\\..\\..\\appdata\\local\\programs\\python\\python39\\lib\\site-packages\\scqubits\\tests\\test_fluxqubit.py::TestFluxQubit::test_plot_evals_vs_paramvals "
     ]
    },
    {
     "data": {
      "application/vnd.jupyter.widget-view+json": {
       "model_id": "",
       "version_major": 2,
       "version_minor": 0
      },
      "text/plain": [
       "Spectral data:   0%|          | 0/50 [00:00<?, ?it/s]"
      ]
     },
     "metadata": {},
     "output_type": "display_data"
    },
    {
     "name": "stdout",
     "output_type": "stream",
     "text": [
      "PASSED [ 36%]\n",
      "..\\..\\..\\appdata\\local\\programs\\python\\python39\\lib\\site-packages\\scqubits\\tests\\test_fluxqubit.py::TestFluxQubit::test_get_spectrum_vs_paramvals "
     ]
    },
    {
     "data": {
      "application/vnd.jupyter.widget-view+json": {
       "model_id": "",
       "version_major": 2,
       "version_minor": 0
      },
      "text/plain": [
       "Spectral data:   0%|          | 0/50 [00:00<?, ?it/s]"
      ]
     },
     "metadata": {},
     "output_type": "display_data"
    },
    {
     "name": "stdout",
     "output_type": "stream",
     "text": [
      "PASSED [ 36%]\n",
      "..\\..\\..\\appdata\\local\\programs\\python\\python39\\lib\\site-packages\\scqubits\\tests\\test_fluxqubit.py::TestFluxQubit::test_matrixelement_table PASSED [ 37%]\n",
      "..\\..\\..\\appdata\\local\\programs\\python\\python39\\lib\\site-packages\\scqubits\\tests\\test_fluxqubit.py::TestFluxQubit::test_plot_matrixelements PASSED [ 38%]\n",
      "..\\..\\..\\appdata\\local\\programs\\python\\python39\\lib\\site-packages\\scqubits\\tests\\test_fluxqubit.py::TestFluxQubit::test_print_matrixelements PASSED [ 39%]\n",
      "..\\..\\..\\appdata\\local\\programs\\python\\python39\\lib\\site-packages\\scqubits\\tests\\test_fluxqubit.py::TestFluxQubit::test_plot_matelem_vs_paramvals "
     ]
    },
    {
     "data": {
      "application/vnd.jupyter.widget-view+json": {
       "model_id": "",
       "version_major": 2,
       "version_minor": 0
      },
      "text/plain": [
       "Spectral data:   0%|          | 0/50 [00:00<?, ?it/s]"
      ]
     },
     "metadata": {},
     "output_type": "display_data"
    },
    {
     "name": "stdout",
     "output_type": "stream",
     "text": [
      "PASSED [ 40%]\n",
      "..\\..\\..\\appdata\\local\\programs\\python\\python39\\lib\\site-packages\\scqubits\\tests\\test_fluxqubit.py::TestFluxQubit::test_plot_potential PASSED [ 40%]\n",
      "..\\..\\..\\appdata\\local\\programs\\python\\python39\\lib\\site-packages\\scqubits\\tests\\test_fullzeropi.py::TestFullZeroPi::test_file_io "
     ]
    },
    {
     "data": {
      "application/vnd.jupyter.widget-view+json": {
       "model_id": "72197a6639a64c13804f9761d22ee93a",
       "version_major": 2,
       "version_minor": 0
      },
      "text/plain": [
       "Row(children=[Row(children=[ValidatedNumberField(class_='ml-2 py-0', dense=True, error=False, filled=True, lab…"
      ]
     },
     "metadata": {},
     "output_type": "display_data"
    },
    {
     "data": {
      "application/vnd.jupyter.widget-view+json": {
       "model_id": "ba42656a72934b988b2985e858691d8d",
       "version_major": 2,
       "version_minor": 0
      },
      "text/plain": [
       "Row(children=[Row(children=[ValidatedNumberField(class_='ml-2 py-0', dense=True, error=False, filled=True, lab…"
      ]
     },
     "metadata": {},
     "output_type": "display_data"
    },
    {
     "name": "stdout",
     "output_type": "stream",
     "text": [
      "PASSED [ 41%]\n",
      "..\\..\\..\\appdata\\local\\programs\\python\\python39\\lib\\site-packages\\scqubits\\tests\\test_fullzeropi.py::TestFullZeroPi::test_hamiltonian_is_hermitian PASSED [ 42%]\n",
      "..\\..\\..\\appdata\\local\\programs\\python\\python39\\lib\\site-packages\\scqubits\\tests\\test_fullzeropi.py::TestFullZeroPi::test_eigenvals PASSED [ 43%]\n",
      "..\\..\\..\\appdata\\local\\programs\\python\\python39\\lib\\site-packages\\scqubits\\tests\\test_fullzeropi.py::TestFullZeroPi::test_eigenvecs PASSED [ 44%]\n",
      "..\\..\\..\\appdata\\local\\programs\\python\\python39\\lib\\site-packages\\scqubits\\tests\\test_gui.py::TestGUI::test_gui "
     ]
    },
    {
     "data": {
      "application/vnd.jupyter.widget-view+json": {
       "model_id": "8641ccbd20b94015bb1d331896506c1d",
       "version_major": 2,
       "version_minor": 0
      },
      "text/plain": [
       "Container(children=[Sheet(children=[Card(children=[Img(layout=None, src='data:image/png;base64,iVBORw0KGgoAAAA…"
      ]
     },
     "metadata": {},
     "output_type": "display_data"
    },
    {
     "name": "stdout",
     "output_type": "stream",
     "text": [
      "PASSED        [ 45%]\n",
      "..\\..\\..\\appdata\\local\\programs\\python\\python39\\lib\\site-packages\\scqubits\\tests\\test_hilbertspace.py::TestHilbertSpace::test_HilbertSpace_init "
     ]
    },
    {
     "data": {
      "application/vnd.jupyter.widget-view+json": {
       "model_id": "ec4a442656e44b5180819c8a50ad738d",
       "version_major": 2,
       "version_minor": 0
      },
      "text/plain": [
       "Row(children=[Row(children=[ValidatedNumberField(class_='ml-2 py-0', dense=True, error=False, filled=True, lab…"
      ]
     },
     "metadata": {},
     "output_type": "display_data"
    },
    {
     "data": {
      "application/vnd.jupyter.widget-view+json": {
       "model_id": "932ad7a71acf4b1b97d074c949350029",
       "version_major": 2,
       "version_minor": 0
      },
      "text/plain": [
       "Row(children=[Row(children=[ValidatedNumberField(class_='ml-2 py-0', dense=True, error=False, filled=True, lab…"
      ]
     },
     "metadata": {},
     "output_type": "display_data"
    },
    {
     "name": "stdout",
     "output_type": "stream",
     "text": [
      "PASSED [ 45%]\n",
      "..\\..\\..\\appdata\\local\\programs\\python\\python39\\lib\\site-packages\\scqubits\\tests\\test_hilbertspace.py::TestHilbertSpace::test_hamiltonian_InteractionTerm "
     ]
    },
    {
     "data": {
      "application/vnd.jupyter.widget-view+json": {
       "model_id": "ea2b4908a2a445ee9c74bdc10b4cb903",
       "version_major": 2,
       "version_minor": 0
      },
      "text/plain": [
       "Row(children=[Row(children=[ValidatedNumberField(class_='ml-2 py-0', dense=True, error=False, filled=True, lab…"
      ]
     },
     "metadata": {},
     "output_type": "display_data"
    },
    {
     "data": {
      "application/vnd.jupyter.widget-view+json": {
       "model_id": "c0dc0f02c62c4e978fcde6257571dbf2",
       "version_major": 2,
       "version_minor": 0
      },
      "text/plain": [
       "Row(children=[Row(children=[ValidatedNumberField(class_='ml-2 py-0', dense=True, error=False, filled=True, lab…"
      ]
     },
     "metadata": {},
     "output_type": "display_data"
    },
    {
     "data": {
      "application/vnd.jupyter.widget-view+json": {
       "model_id": "166613c080ca46a0b9963e1293681aa8",
       "version_major": 2,
       "version_minor": 0
      },
      "text/plain": [
       "Row(children=[Row(children=[ValidatedNumberField(class_='ml-2 py-0', dense=True, error=False, filled=True, lab…"
      ]
     },
     "metadata": {},
     "output_type": "display_data"
    },
    {
     "data": {
      "application/vnd.jupyter.widget-view+json": {
       "model_id": "15931d2416c04ba8a38a008eb5a65a13",
       "version_major": 2,
       "version_minor": 0
      },
      "text/plain": [
       "Row(children=[Row(children=[ValidatedNumberField(class_='ml-2 py-0', dense=True, error=False, filled=True, lab…"
      ]
     },
     "metadata": {},
     "output_type": "display_data"
    },
    {
     "name": "stdout",
     "output_type": "stream",
     "text": [
      "PASSED [ 46%]\n",
      "..\\..\\..\\appdata\\local\\programs\\python\\python39\\lib\\site-packages\\scqubits\\tests\\test_hilbertspace.py::TestHilbertSpace::test_hamiltonian_InteractionTermStr "
     ]
    },
    {
     "data": {
      "application/vnd.jupyter.widget-view+json": {
       "model_id": "dbdfd47187f340eb8f8c021a0150c1c8",
       "version_major": 2,
       "version_minor": 0
      },
      "text/plain": [
       "Row(children=[Row(children=[ValidatedNumberField(class_='ml-2 py-0', dense=True, error=False, filled=True, lab…"
      ]
     },
     "metadata": {},
     "output_type": "display_data"
    },
    {
     "data": {
      "application/vnd.jupyter.widget-view+json": {
       "model_id": "447b3f68505e4ff4825204bef6fad51e",
       "version_major": 2,
       "version_minor": 0
      },
      "text/plain": [
       "Row(children=[Row(children=[ValidatedNumberField(class_='ml-2 py-0', dense=True, error=False, filled=True, lab…"
      ]
     },
     "metadata": {},
     "output_type": "display_data"
    },
    {
     "data": {
      "application/vnd.jupyter.widget-view+json": {
       "model_id": "9f0a9f25dd134250a191a61497e74fc9",
       "version_major": 2,
       "version_minor": 0
      },
      "text/plain": [
       "Row(children=[Row(children=[ValidatedNumberField(class_='ml-2 py-0', dense=True, error=False, filled=True, lab…"
      ]
     },
     "metadata": {},
     "output_type": "display_data"
    },
    {
     "data": {
      "application/vnd.jupyter.widget-view+json": {
       "model_id": "cad20ee5dce34793a000bb9bcfa35b3a",
       "version_major": 2,
       "version_minor": 0
      },
      "text/plain": [
       "Row(children=[Row(children=[ValidatedNumberField(class_='ml-2 py-0', dense=True, error=False, filled=True, lab…"
      ]
     },
     "metadata": {},
     "output_type": "display_data"
    },
    {
     "name": "stdout",
     "output_type": "stream",
     "text": [
      "PASSED [ 47%]\n",
      "..\\..\\..\\appdata\\local\\programs\\python\\python39\\lib\\site-packages\\scqubits\\tests\\test_hilbertspace.py::TestHilbertSpace::test_hamiltonian_Qobj "
     ]
    },
    {
     "data": {
      "application/vnd.jupyter.widget-view+json": {
       "model_id": "3525874feab44871ba4efa5e1f0c5898",
       "version_major": 2,
       "version_minor": 0
      },
      "text/plain": [
       "Row(children=[Row(children=[ValidatedNumberField(class_='ml-2 py-0', dense=True, error=False, filled=True, lab…"
      ]
     },
     "metadata": {},
     "output_type": "display_data"
    },
    {
     "data": {
      "application/vnd.jupyter.widget-view+json": {
       "model_id": "baf06cbd0ba5492daa8da850ada9faf8",
       "version_major": 2,
       "version_minor": 0
      },
      "text/plain": [
       "Row(children=[Row(children=[ValidatedNumberField(class_='ml-2 py-0', dense=True, error=False, filled=True, lab…"
      ]
     },
     "metadata": {},
     "output_type": "display_data"
    },
    {
     "data": {
      "application/vnd.jupyter.widget-view+json": {
       "model_id": "8008aee628e04c448d6e2f3a76e8acb7",
       "version_major": 2,
       "version_minor": 0
      },
      "text/plain": [
       "Row(children=[Row(children=[ValidatedNumberField(class_='ml-2 py-0', dense=True, error=False, filled=True, lab…"
      ]
     },
     "metadata": {},
     "output_type": "display_data"
    },
    {
     "data": {
      "application/vnd.jupyter.widget-view+json": {
       "model_id": "2aa3e2b96a474fc28e7bc817f653bc40",
       "version_major": 2,
       "version_minor": 0
      },
      "text/plain": [
       "Row(children=[Row(children=[ValidatedNumberField(class_='ml-2 py-0', dense=True, error=False, filled=True, lab…"
      ]
     },
     "metadata": {},
     "output_type": "display_data"
    },
    {
     "name": "stdout",
     "output_type": "stream",
     "text": [
      "PASSED [ 48%]\n",
      "..\\..\\..\\appdata\\local\\programs\\python\\python39\\lib\\site-packages\\scqubits\\tests\\test_hilbertspace.py::TestHilbertSpace::test_HilbertSpace_hamiltonian_is_hermitian "
     ]
    },
    {
     "data": {
      "application/vnd.jupyter.widget-view+json": {
       "model_id": "934e6196efda4227b92fa91075b37f28",
       "version_major": 2,
       "version_minor": 0
      },
      "text/plain": [
       "Row(children=[Row(children=[ValidatedNumberField(class_='ml-2 py-0', dense=True, error=False, filled=True, lab…"
      ]
     },
     "metadata": {},
     "output_type": "display_data"
    },
    {
     "data": {
      "application/vnd.jupyter.widget-view+json": {
       "model_id": "3daeed6389a3435b80209e707c363bfe",
       "version_major": 2,
       "version_minor": 0
      },
      "text/plain": [
       "Row(children=[Row(children=[ValidatedNumberField(class_='ml-2 py-0', dense=True, error=False, filled=True, lab…"
      ]
     },
     "metadata": {},
     "output_type": "display_data"
    },
    {
     "name": "stdout",
     "output_type": "stream",
     "text": [
      "PASSED [ 49%]\n",
      "..\\..\\..\\appdata\\local\\programs\\python\\python39\\lib\\site-packages\\scqubits\\tests\\test_hilbertspace.py::TestHilbertSpace::test_HilbertSpace_diagonalize_hamiltonian PASSED [ 50%]\n",
      "..\\..\\..\\appdata\\local\\programs\\python\\python39\\lib\\site-packages\\scqubits\\tests\\test_hilbertspace.py::TestHilbertSpace::test_HilbertSpace_get_spectrum_vs_paramvals PASSED [ 50%]\n",
      "..\\..\\..\\appdata\\local\\programs\\python\\python39\\lib\\site-packages\\scqubits\\tests\\test_hilbertspace.py::TestHilbertSpace::test_HilbertSpace_eigenenergies PASSED [ 51%]\n",
      "..\\..\\..\\appdata\\local\\programs\\python\\python39\\lib\\site-packages\\scqubits\\tests\\test_hilbertspace.py::TestHilbertSpace::test_HilbertSpace_fileIO PASSED [ 52%]\n",
      "..\\..\\..\\appdata\\local\\programs\\python\\python39\\lib\\site-packages\\scqubits\\tests\\test_hilbertspace.py::TestHilbertSpace::test_HilbertSpace_GUI "
     ]
    },
    {
     "data": {
      "application/vnd.jupyter.widget-view+json": {
       "model_id": "c79331c5693a41f3a04597e6a0700363",
       "version_major": 2,
       "version_minor": 0
      },
      "text/plain": [
       "Container(children=[Card(children=[CardTitle(children=['Create Hilbert Space'], layout=None), Container(childr…"
      ]
     },
     "metadata": {},
     "output_type": "display_data"
    },
    {
     "name": "stdout",
     "output_type": "stream",
     "text": [
      "PASSED [ 53%]\n",
      "..\\..\\..\\appdata\\local\\programs\\python\\python39\\lib\\site-packages\\scqubits\\tests\\test_hilbertspace.py::TestHilbertSpace::test_HilbertSpace_op_in_dressed_basis PASSED [ 54%]\n",
      "..\\..\\..\\appdata\\local\\programs\\python\\python39\\lib\\site-packages\\scqubits\\tests\\test_hilbertspace.py::TestHilbertSpace::test_HilbertSpace_op_in_dressed_basis_native_vs_bare_basis PASSED [ 54%]\n",
      "..\\..\\..\\appdata\\local\\programs\\python\\python39\\lib\\site-packages\\scqubits\\tests\\test_namedslotsndarray.py::test_initialize PASSED [ 55%]\n",
      "..\\..\\..\\appdata\\local\\programs\\python\\python39\\lib\\site-packages\\scqubits\\tests\\test_namedslotsndarray.py::test_index_access PASSED [ 56%]\n",
      "..\\..\\..\\appdata\\local\\programs\\python\\python39\\lib\\site-packages\\scqubits\\tests\\test_namedslotsndarray.py::test_name_access PASSED [ 57%]\n",
      "..\\..\\..\\appdata\\local\\programs\\python\\python39\\lib\\site-packages\\scqubits\\tests\\test_namedslotsndarray.py::test_value_access PASSED [ 58%]\n",
      "..\\..\\..\\appdata\\local\\programs\\python\\python39\\lib\\site-packages\\scqubits\\tests\\test_namedslotsndarray.py::test_named_slice PASSED [ 59%]\n",
      "..\\..\\..\\appdata\\local\\programs\\python\\python39\\lib\\site-packages\\scqubits\\tests\\test_noise.py::TestNoise::test_Transmon PASSED [ 59%]\n",
      "..\\..\\..\\appdata\\local\\programs\\python\\python39\\lib\\site-packages\\scqubits\\tests\\test_noise.py::TestNoise::test_TunableTransmon PASSED [ 60%]\n",
      "..\\..\\..\\appdata\\local\\programs\\python\\python39\\lib\\site-packages\\scqubits\\tests\\test_noise.py::TestNoise::test_Fluxonium PASSED [ 61%]\n",
      "..\\..\\..\\appdata\\local\\programs\\python\\python39\\lib\\site-packages\\scqubits\\tests\\test_noise.py::TestNoise::test_FluxQubit PASSED [ 62%]\n",
      "..\\..\\..\\appdata\\local\\programs\\python\\python39\\lib\\site-packages\\scqubits\\tests\\test_noise.py::TestNoise::test_ZeroPi PASSED [ 63%]\n",
      "..\\..\\..\\appdata\\local\\programs\\python\\python39\\lib\\site-packages\\scqubits\\tests\\test_noise.py::TestNoise::test_Cos2PhiQubit PASSED [ 63%]\n",
      "..\\..\\..\\appdata\\local\\programs\\python\\python39\\lib\\site-packages\\scqubits\\tests\\test_parameters.py::test_initialize_parameters PASSED [ 64%]\n",
      "..\\..\\..\\appdata\\local\\programs\\python\\python39\\lib\\site-packages\\scqubits\\tests\\test_parameters.py::test_get_by_name PASSED  [ 65%]\n",
      "..\\..\\..\\appdata\\local\\programs\\python\\python39\\lib\\site-packages\\scqubits\\tests\\test_parameters.py::test_get_by_index PASSED [ 66%]\n",
      "..\\..\\..\\appdata\\local\\programs\\python\\python39\\lib\\site-packages\\scqubits\\tests\\test_parameters.py::test_params_count PASSED [ 67%]\n",
      "..\\..\\..\\appdata\\local\\programs\\python\\python39\\lib\\site-packages\\scqubits\\tests\\test_parameters.py::test_iterate PASSED      [ 68%]\n",
      "..\\..\\..\\appdata\\local\\programs\\python\\python39\\lib\\site-packages\\scqubits\\tests\\test_parameters.py::test_paravals_list PASSED [ 68%]\n",
      "..\\..\\..\\appdata\\local\\programs\\python\\python39\\lib\\site-packages\\scqubits\\tests\\test_parametersweep.py::TestParameterSweep::test_ParameterSweep PASSED [ 69%]\n",
      "..\\..\\..\\appdata\\local\\programs\\python\\python39\\lib\\site-packages\\scqubits\\tests\\test_parametersweep.py::TestParameterSweep::test_ParameterSweep_fileIO PASSED [ 70%]\n",
      "..\\..\\..\\appdata\\local\\programs\\python\\python39\\lib\\site-packages\\scqubits\\tests\\test_spectrumlookup.py::TestSpectrumLookup::test_hilbertspace_generate_lookup PASSED [ 71%]\n",
      "..\\..\\..\\appdata\\local\\programs\\python\\python39\\lib\\site-packages\\scqubits\\tests\\test_spectrumlookup.py::TestSpectrumLookup::test_hilbertspace_lookup_bare_eigenenergies PASSED [ 72%]\n",
      "..\\..\\..\\appdata\\local\\programs\\python\\python39\\lib\\site-packages\\scqubits\\tests\\test_spectrumlookup.py::TestSpectrumLookup::test_hilbertspace_lookup_bare_index PASSED [ 72%]\n",
      "..\\..\\..\\appdata\\local\\programs\\python\\python39\\lib\\site-packages\\scqubits\\tests\\test_spectrumlookup.py::TestSpectrumLookup::test_hilbertspace_lookup_dressed_index PASSED [ 73%]\n",
      "..\\..\\..\\appdata\\local\\programs\\python\\python39\\lib\\site-packages\\scqubits\\tests\\test_spectrumlookup.py::TestSpectrumLookup::test_hilbertspace_lookup_bare_eigenstates PASSED [ 74%]\n",
      "..\\..\\..\\appdata\\local\\programs\\python\\python39\\lib\\site-packages\\scqubits\\tests\\test_spectrumlookup.py::TestParameterSweep::test_sweep_bare_eigenenergies PASSED [ 75%]\n",
      "..\\..\\..\\appdata\\local\\programs\\python\\python39\\lib\\site-packages\\scqubits\\tests\\test_spectrumlookup.py::TestParameterSweep::test_sweep_bare_eigenstates PASSED [ 76%]\n",
      "..\\..\\..\\appdata\\local\\programs\\python\\python39\\lib\\site-packages\\scqubits\\tests\\test_transmon.py::TestTransmon::test_file_io "
     ]
    },
    {
     "data": {
      "application/vnd.jupyter.widget-view+json": {
       "model_id": "2a3983cefcea46d4ab84ab4f01cea92b",
       "version_major": 2,
       "version_minor": 0
      },
      "text/plain": [
       "Row(children=[Row(children=[ValidatedNumberField(class_='ml-2 py-0', dense=True, error=False, filled=True, lab…"
      ]
     },
     "metadata": {},
     "output_type": "display_data"
    },
    {
     "name": "stdout",
     "output_type": "stream",
     "text": [
      "PASSED [ 77%]\n",
      "..\\..\\..\\appdata\\local\\programs\\python\\python39\\lib\\site-packages\\scqubits\\tests\\test_transmon.py::TestTransmon::test_hamiltonian_is_hermitian PASSED [ 77%]\n",
      "..\\..\\..\\appdata\\local\\programs\\python\\python39\\lib\\site-packages\\scqubits\\tests\\test_transmon.py::TestTransmon::test_eigenvals PASSED [ 78%]\n",
      "..\\..\\..\\appdata\\local\\programs\\python\\python39\\lib\\site-packages\\scqubits\\tests\\test_transmon.py::TestTransmon::test_eigenvecs PASSED [ 79%]\n",
      "..\\..\\..\\appdata\\local\\programs\\python\\python39\\lib\\site-packages\\scqubits\\tests\\test_transmon.py::TestTransmon::test_plot_wavefunction PASSED [ 80%]\n",
      "..\\..\\..\\appdata\\local\\programs\\python\\python39\\lib\\site-packages\\scqubits\\tests\\test_transmon.py::TestTransmon::test_plot_evals_vs_paramvals PASSED [ 81%]\n",
      "..\\..\\..\\appdata\\local\\programs\\python\\python39\\lib\\site-packages\\scqubits\\tests\\test_transmon.py::TestTransmon::test_get_spectrum_vs_paramvals PASSED [ 81%]\n",
      "..\\..\\..\\appdata\\local\\programs\\python\\python39\\lib\\site-packages\\scqubits\\tests\\test_transmon.py::TestTransmon::test_matrixelement_table PASSED [ 82%]\n",
      "..\\..\\..\\appdata\\local\\programs\\python\\python39\\lib\\site-packages\\scqubits\\tests\\test_transmon.py::TestTransmon::test_plot_matrixelements PASSED [ 83%]\n",
      "..\\..\\..\\appdata\\local\\programs\\python\\python39\\lib\\site-packages\\scqubits\\tests\\test_transmon.py::TestTransmon::test_print_matrixelements PASSED [ 84%]\n",
      "..\\..\\..\\appdata\\local\\programs\\python\\python39\\lib\\site-packages\\scqubits\\tests\\test_transmon.py::TestTransmon::test_plot_matelem_vs_paramvals PASSED [ 85%]\n",
      "..\\..\\..\\appdata\\local\\programs\\python\\python39\\lib\\site-packages\\scqubits\\tests\\test_transmon.py::TestTransmon::test_plot_potential SKIPPED [ 86%]\n",
      "..\\..\\..\\appdata\\local\\programs\\python\\python39\\lib\\site-packages\\scqubits\\tests\\test_transmon.py::TestTransmon::test_plot_n_wavefunction PASSED [ 86%]\n",
      "..\\..\\..\\appdata\\local\\programs\\python\\python39\\lib\\site-packages\\scqubits\\tests\\test_units.py::TestUnits::test_get_units PASSED [ 87%]\n",
      "..\\..\\..\\appdata\\local\\programs\\python\\python39\\lib\\site-packages\\scqubits\\tests\\test_units.py::TestUnits::test_set_units PASSED [ 88%]\n",
      "..\\..\\..\\appdata\\local\\programs\\python\\python39\\lib\\site-packages\\scqubits\\tests\\test_units.py::TestUnits::test_units_warning PASSED [ 89%]\n",
      "..\\..\\..\\appdata\\local\\programs\\python\\python39\\lib\\site-packages\\scqubits\\tests\\test_units.py::TestUnits::test_units_auxiliary PASSED [ 90%]\n",
      "..\\..\\..\\appdata\\local\\programs\\python\\python39\\lib\\site-packages\\scqubits\\tests\\test_zeropi.py::TestZeroPi::test_file_io "
     ]
    },
    {
     "data": {
      "application/vnd.jupyter.widget-view+json": {
       "model_id": "de983b326f2b4e76b9c427959a88472f",
       "version_major": 2,
       "version_minor": 0
      },
      "text/plain": [
       "Row(children=[Row(children=[ValidatedNumberField(class_='ml-2 py-0', dense=True, error=False, filled=True, lab…"
      ]
     },
     "metadata": {},
     "output_type": "display_data"
    },
    {
     "name": "stdout",
     "output_type": "stream",
     "text": [
      "PASSED [ 90%]\n",
      "..\\..\\..\\appdata\\local\\programs\\python\\python39\\lib\\site-packages\\scqubits\\tests\\test_zeropi.py::TestZeroPi::test_hamiltonian_is_hermitian PASSED [ 91%]\n",
      "..\\..\\..\\appdata\\local\\programs\\python\\python39\\lib\\site-packages\\scqubits\\tests\\test_zeropi.py::TestZeroPi::test_eigenvals PASSED [ 92%]\n",
      "..\\..\\..\\appdata\\local\\programs\\python\\python39\\lib\\site-packages\\scqubits\\tests\\test_zeropi.py::TestZeroPi::test_eigenvecs PASSED [ 93%]\n",
      "..\\..\\..\\appdata\\local\\programs\\python\\python39\\lib\\site-packages\\scqubits\\tests\\test_zeropi.py::TestZeroPi::test_plot_wavefunction PASSED [ 94%]\n",
      "..\\..\\..\\appdata\\local\\programs\\python\\python39\\lib\\site-packages\\scqubits\\tests\\test_zeropi.py::TestZeroPi::test_plot_evals_vs_paramvals PASSED [ 95%]\n",
      "..\\..\\..\\appdata\\local\\programs\\python\\python39\\lib\\site-packages\\scqubits\\tests\\test_zeropi.py::TestZeroPi::test_get_spectrum_vs_paramvals PASSED [ 95%]\n",
      "..\\..\\..\\appdata\\local\\programs\\python\\python39\\lib\\site-packages\\scqubits\\tests\\test_zeropi.py::TestZeroPi::test_matrixelement_table PASSED [ 96%]\n",
      "..\\..\\..\\appdata\\local\\programs\\python\\python39\\lib\\site-packages\\scqubits\\tests\\test_zeropi.py::TestZeroPi::test_plot_matrixelements PASSED [ 97%]\n",
      "..\\..\\..\\appdata\\local\\programs\\python\\python39\\lib\\site-packages\\scqubits\\tests\\test_zeropi.py::TestZeroPi::test_print_matrixelements PASSED [ 98%]\n",
      "..\\..\\..\\appdata\\local\\programs\\python\\python39\\lib\\site-packages\\scqubits\\tests\\test_zeropi.py::TestZeroPi::test_plot_matelem_vs_paramvals PASSED [ 99%]\n",
      "..\\..\\..\\appdata\\local\\programs\\python\\python39\\lib\\site-packages\\scqubits\\tests\\test_zeropi.py::TestZeroPi::test_plot_potential PASSED [100%]\n",
      "\n",
      "============================================================= FAILURES =============================================================\n",
      "__________________________________________________________ test_explorer ___________________________________________________________\n",
      "\n",
      "num_cpus = 4\n",
      "\n",
      "    def get_map_method(num_cpus: int) -> Callable:\n",
      "        \"\"\"\n",
      "        Selects the correct `.map` method depending on the specified number of desired\n",
      "        cores. If num_cpus>1, the multiprocessing/pathos pool is started here.\n",
      "    \n",
      "        Parameters\n",
      "        ----------\n",
      "        num_cpus: int\n",
      "    \n",
      "        Returns\n",
      "        -------\n",
      "        function\n",
      "            `.map` method to be used by caller\n",
      "        \"\"\"\n",
      "        if num_cpus == 1:\n",
      "            return map\n",
      "    \n",
      "        # num_cpus > 1 -----------------\n",
      "        # user is asking for more than 1 cpu; start pool from here\n",
      "        if settings.MULTIPROC == \"pathos\":\n",
      "            try:\n",
      "                import dill\n",
      ">               import pathos\n",
      "E               ModuleNotFoundError: No module named 'pathos'\n",
      "\n",
      "..\\..\\..\\appdata\\local\\programs\\python\\python39\\lib\\site-packages\\scqubits\\utils\\cpu_switch.py:40: ModuleNotFoundError\n",
      "\n",
      "During handling of the above exception, another exception occurred:\n",
      "\n",
      "    def test_explorer():\n",
      "        tmon1 = scq.TunableTransmon(\n",
      "            EJmax=40.0,\n",
      "            EC=0.2,\n",
      "            d=0.1,\n",
      "            flux=0.0,\n",
      "            ng=0.3,\n",
      "            ncut=40,\n",
      "            truncated_dim=5,\n",
      "        )\n",
      "    \n",
      "        tmon2 = scq.TunableTransmon(\n",
      "            EJmax=15.0, EC=0.15, d=0.02, flux=0.0, ng=0.0, ncut=30, truncated_dim=5\n",
      "        )\n",
      "    \n",
      "        resonator = scq.Oscillator(E_osc=4.5, truncated_dim=4)\n",
      "    \n",
      "        hilbertspace = scq.HilbertSpace([tmon1, tmon2, resonator])\n",
      "    \n",
      "        g1 = 0.1  # coupling resonator-CPB1 (without charge matrix elements)\n",
      "        g2 = 0.2  # coupling resonator-CPB2 (without charge matrix elements)\n",
      "    \n",
      "        hilbertspace.add_interaction(\n",
      "            g_strength=g1,\n",
      "            op1=tmon1.n_operator,\n",
      "            op2=resonator.creation_operator,\n",
      "            add_hc=True,\n",
      "        )\n",
      "    \n",
      "        hilbertspace.add_interaction(\n",
      "            g_strength=g2,\n",
      "            op1=tmon2.n_operator,\n",
      "            op2=resonator.creation_operator,\n",
      "            add_hc=True,\n",
      "        )\n",
      "    \n",
      "        # Set up parameter name and values\n",
      "        pname1 = \"flux\"\n",
      "        flux_vals = np.linspace(0.0, 2.0, 3)\n",
      "        pname2 = \"ng\"\n",
      "        ng_vals = np.linspace(-0.5, 0.5, 3)\n",
      "    \n",
      "        # combine into a dictionary\n",
      "        paramvals_by_name = {pname1: flux_vals, pname2: ng_vals}\n",
      "    \n",
      "        area_ratio = 1.2\n",
      "    \n",
      "        def update_hilbertspace(\n",
      "            flux, ng\n",
      "        ):  # function that defines how Hilbert space components are updated\n",
      "            tmon1.flux = flux\n",
      "            tmon2.flux = area_ratio * flux\n",
      "            tmon2.ng = ng\n",
      "    \n",
      "        # dictionary with information on which subsystems are affected by changing\n",
      "        # parameters\n",
      "        subsys_update_info = {pname1: [tmon1, tmon2], pname2: [tmon2]}\n",
      "    \n",
      "        # create the ParameterSweep\n",
      ">       sweep = scq.ParameterSweep(\n",
      "            hilbertspace=hilbertspace,\n",
      "            paramvals_by_name=paramvals_by_name,\n",
      "            update_hilbertspace=update_hilbertspace,\n",
      "            evals_count=28,\n",
      "            subsys_update_info=subsys_update_info,\n",
      "            num_cpus=4,\n",
      "        )\n",
      "\n",
      "..\\..\\..\\appdata\\local\\programs\\python\\python39\\lib\\site-packages\\scqubits\\tests\\test_explorer.py:78: \n",
      "_ _ _ _ _ _ _ _ _ _ _ _ _ _ _ _ _ _ _ _ _ _ _ _ _ _ _ _ _ _ _ _ _ _ _ _ _ _ _ _ _ _ _ _ _ _ _ _ _ _ _ _ _ _ _ _ _ _ _ _ _ _ _ _ _ _ \n",
      "..\\..\\..\\appdata\\local\\programs\\python\\python39\\lib\\site-packages\\scqubits\\core\\param_sweep.py:978: in __init__\n",
      "    self.run()\n",
      "..\\..\\..\\appdata\\local\\programs\\python\\python39\\lib\\site-packages\\scqubits\\core\\param_sweep.py:1033: in run\n",
      "    self._data[\"bare_evals\"], self._data[\"bare_evecs\"] = self._bare_spectrum_sweep()\n",
      "..\\..\\..\\appdata\\local\\programs\\python\\python39\\lib\\site-packages\\scqubits\\core\\param_sweep.py:1065: in _bare_spectrum_sweep\n",
      "    bare_esys = self._subsys_bare_spectrum_sweep(subsystem)\n",
      "..\\..\\..\\appdata\\local\\programs\\python\\python39\\lib\\site-packages\\scqubits\\core\\param_sweep.py:1120: in _subsys_bare_spectrum_sweep\n",
      "    target_map = cpu_switch.get_map_method(self._num_cpus)\n",
      "_ _ _ _ _ _ _ _ _ _ _ _ _ _ _ _ _ _ _ _ _ _ _ _ _ _ _ _ _ _ _ _ _ _ _ _ _ _ _ _ _ _ _ _ _ _ _ _ _ _ _ _ _ _ _ _ _ _ _ _ _ _ _ _ _ _ \n",
      "\n",
      "num_cpus = 4\n",
      "\n",
      "    def get_map_method(num_cpus: int) -> Callable:\n",
      "        \"\"\"\n",
      "        Selects the correct `.map` method depending on the specified number of desired\n",
      "        cores. If num_cpus>1, the multiprocessing/pathos pool is started here.\n",
      "    \n",
      "        Parameters\n",
      "        ----------\n",
      "        num_cpus: int\n",
      "    \n",
      "        Returns\n",
      "        -------\n",
      "        function\n",
      "            `.map` method to be used by caller\n",
      "        \"\"\"\n",
      "        if num_cpus == 1:\n",
      "            return map\n",
      "    \n",
      "        # num_cpus > 1 -----------------\n",
      "        # user is asking for more than 1 cpu; start pool from here\n",
      "        if settings.MULTIPROC == \"pathos\":\n",
      "            try:\n",
      "                import dill\n",
      "                import pathos\n",
      "            except ImportError:\n",
      ">               raise ImportError(\n",
      "                    \"scqubits multiprocessing mode set to 'pathos'. Need but cannot find\"\n",
      "                    \" 'pathos'/'dill'!\"\n",
      "                )\n",
      "E               ImportError: scqubits multiprocessing mode set to 'pathos'. Need but cannot find 'pathos'/'dill'!\n",
      "\n",
      "..\\..\\..\\appdata\\local\\programs\\python\\python39\\lib\\site-packages\\scqubits\\utils\\cpu_switch.py:42: ImportError\n",
      "========================================================= warnings summary =========================================================\n",
      "appdata/local/programs/python/python39/lib/site-packages/scqubits/tests/test_centraldispatch.py: 81 warnings\n",
      "appdata/local/programs/python/python39/lib/site-packages/scqubits/tests/test_cos2phiqubit.py: 39 warnings\n",
      "appdata/local/programs/python/python39/lib/site-packages/scqubits/tests/test_fluxonium.py: 18 warnings\n",
      "appdata/local/programs/python/python39/lib/site-packages/scqubits/tests/test_fluxqubit.py: 39 warnings\n",
      "appdata/local/programs/python/python39/lib/site-packages/scqubits/tests/test_fullzeropi.py: 102 warnings\n",
      "appdata/local/programs/python/python39/lib/site-packages/scqubits/tests/test_gui.py: 87 warnings\n",
      "appdata/local/programs/python/python39/lib/site-packages/scqubits/tests/test_hilbertspace.py: 552 warnings\n",
      "appdata/local/programs/python/python39/lib/site-packages/scqubits/tests/test_transmon.py: 15 warnings\n",
      "appdata/local/programs/python/python39/lib/site-packages/scqubits/tests/test_zeropi.py: 39 warnings\n",
      "  DeprecationWarning: Deprecated in traitlets 4.1, use the instance .metadata dictionary directly, like x.metadata[key] or x.metadata.get(key, default)\n",
      "   c:\\users\\anant sharma\\appdata\\local\\programs\\python\\python39\\lib\\site-packages\\ipywidgets\\widgets\\widget.py: 592\n",
      "\n",
      "appdata/local/programs/python/python39/lib/site-packages/scqubits/tests/test_cos2phiqubit.py: 20 warnings\n",
      "appdata/local/programs/python/python39/lib/site-packages/scqubits/tests/test_fluxonium.py: 20 warnings\n",
      "appdata/local/programs/python/python39/lib/site-packages/scqubits/tests/test_fluxqubit.py: 20 warnings\n",
      "appdata/local/programs/python/python39/lib/site-packages/scqubits/tests/test_fullzeropi.py: 16 warnings\n",
      "appdata/local/programs/python/python39/lib/site-packages/scqubits/tests/test_hilbertspace.py: 336 warnings\n",
      "appdata/local/programs/python/python39/lib/site-packages/scqubits/tests/test_parametersweep.py: 1606 warnings\n",
      "appdata/local/programs/python/python39/lib/site-packages/scqubits/tests/test_transmon.py: 20 warnings\n",
      "appdata/local/programs/python/python39/lib/site-packages/scqubits/tests/test_zeropi.py: 30 warnings\n",
      "  DeprecationWarning: `product` is deprecated as of NumPy 1.25.0, and will be removed in NumPy 2.0. Please use `prod` instead.\n",
      "   c:\\users\\anant sharma\\appdata\\local\\programs\\python\\python39\\lib\\site-packages\\scqubits\\io_utils\\fileio_backends.py: 86\n",
      "\n",
      "appdata/local/programs/python/python39/lib/site-packages/scqubits/tests/test_cos2phiqubit.py: 142 warnings\n",
      "appdata/local/programs/python/python39/lib/site-packages/scqubits/tests/test_fluxonium.py: 72 warnings\n",
      "appdata/local/programs/python/python39/lib/site-packages/scqubits/tests/test_fluxqubit.py: 142 warnings\n",
      "appdata/local/programs/python/python39/lib/site-packages/scqubits/tests/test_fullzeropi.py: 108 warnings\n",
      "appdata/local/programs/python/python39/lib/site-packages/scqubits/tests/test_hilbertspace.py: 328 warnings\n",
      "appdata/local/programs/python/python39/lib/site-packages/scqubits/tests/test_parametersweep.py: 2610 warnings\n",
      "appdata/local/programs/python/python39/lib/site-packages/scqubits/tests/test_transmon.py: 62 warnings\n",
      "appdata/local/programs/python/python39/lib/site-packages/scqubits/tests/test_zeropi.py: 142 warnings\n",
      "  DeprecationWarning: `product` is deprecated as of NumPy 1.25.0, and will be removed in NumPy 2.0. Please use `prod` instead.\n",
      "   c:\\users\\anant sharma\\appdata\\local\\programs\\python\\python39\\lib\\site-packages\\h5py\\_hl\\attrs.py: 103\n",
      "\n",
      "appdata/local/programs/python/python39/lib/site-packages/scqubits/tests/test_cos2phiqubit.py: 50 warnings\n",
      "appdata/local/programs/python/python39/lib/site-packages/scqubits/tests/test_fluxonium.py: 114 warnings\n",
      "appdata/local/programs/python/python39/lib/site-packages/scqubits/tests/test_fluxqubit.py: 316 warnings\n",
      "appdata/local/programs/python/python39/lib/site-packages/scqubits/tests/test_fullzeropi.py: 8 warnings\n",
      "appdata/local/programs/python/python39/lib/site-packages/scqubits/tests/test_hilbertspace.py: 246 warnings\n",
      "appdata/local/programs/python/python39/lib/site-packages/scqubits/tests/test_parametersweep.py: 128 warnings\n",
      "appdata/local/programs/python/python39/lib/site-packages/scqubits/tests/test_transmon.py: 112 warnings\n",
      "appdata/local/programs/python/python39/lib/site-packages/scqubits/tests/test_zeropi.py: 74 warnings\n",
      "  DeprecationWarning: `product` is deprecated as of NumPy 1.25.0, and will be removed in NumPy 2.0. Please use `prod` instead.\n",
      "   c:\\users\\anant sharma\\appdata\\local\\programs\\python\\python39\\lib\\site-packages\\h5py\\_hl\\filters.py: 243\n",
      "\n",
      "appdata/local/programs/python/python39/lib/site-packages/scqubits/tests/test_gui.py::TestGUI::test_gui\n",
      "appdata/local/programs/python/python39/lib/site-packages/scqubits/tests/test_gui.py::TestGUI::test_gui\n",
      "  DeprecationWarning: Kernel._parent_header is deprecated in ipykernel 6. Use .get_parent()\n",
      "   c:\\users\\anant sharma\\appdata\\local\\programs\\python\\python39\\lib\\site-packages\\ipywidgets\\widgets\\widget_output.py: 111\n",
      "\n",
      "appdata/local/programs/python/python39/lib/site-packages/scqubits/tests/test_gui.py::TestGUI::test_gui\n",
      "appdata/local/programs/python/python39/lib/site-packages/scqubits/tests/test_gui.py::TestGUI::test_gui\n",
      "  DeprecationWarning: Kernel._parent_header is deprecated in ipykernel 6. Use .get_parent()\n",
      "   c:\\users\\anant sharma\\appdata\\local\\programs\\python\\python39\\lib\\site-packages\\ipywidgets\\widgets\\widget_output.py: 112\n",
      "\n",
      "appdata/local/programs/python/python39/lib/site-packages/scqubits/tests/test_units.py::TestUnits::test_set_units\n",
      "appdata/local/programs/python/python39/lib/site-packages/scqubits/tests/test_units.py::TestUnits::test_units_warning\n",
      "appdata/local/programs/python/python39/lib/site-packages/scqubits/tests/test_units.py::TestUnits::test_units_warning\n",
      "  UserWarning: Changing units (by calling set_units()) after initializing qubit instances is likely to cause unintended inconsistencies.\n",
      "   c:\\users\\anant sharma\\appdata\\local\\programs\\python\\python39\\lib\\site-packages\\scqubits\\core\\units.py: 64\n",
      "\n",
      "-- Docs: https://docs.pytest.org/en/stable/how-to/capture-warnings.html\n",
      "===================================================== short test summary info ======================================================\n",
      "FAILED ..\\..\\..\\appdata\\local\\programs\\python\\python39\\lib\\site-packages\\scqubits\\tests\\test_explorer.py::test_explorer - ImportEr...\n",
      "=============================== 1 failed, 119 passed, 2 skipped, 7701 warnings in 244.22s (0:04:04) ================================\n"
     ]
    }
   ],
   "source": [
    "import scqubits.testing as sctest\n",
    "sctest.run()"
   ]
  },
  {
   "cell_type": "code",
   "execution_count": 3,
   "id": "cd0a7d31",
   "metadata": {},
   "outputs": [],
   "source": [
    "import scqubits as scq"
   ]
  },
  {
   "cell_type": "code",
   "execution_count": 4,
   "id": "0d27df6a",
   "metadata": {},
   "outputs": [
    {
     "data": {
      "application/vnd.jupyter.widget-view+json": {
       "model_id": "70af344ac8f64acfb03891d8783c2c10",
       "version_major": 2,
       "version_minor": 0
      },
      "text/plain": [
       "Container(children=[Sheet(children=[Card(children=[Img(layout=None, src='data:image/png;base64,iVBORw0KGgoAAAA…"
      ]
     },
     "metadata": {},
     "output_type": "display_data"
    },
    {
     "data": {
      "text/plain": []
     },
     "execution_count": 4,
     "metadata": {},
     "output_type": "execute_result"
    }
   ],
   "source": [
    "scq.GUI()"
   ]
  },
  {
   "cell_type": "code",
   "execution_count": null,
   "id": "31b09493",
   "metadata": {},
   "outputs": [],
   "source": []
  }
 ],
 "metadata": {
  "kernelspec": {
   "display_name": "Python 3 (ipykernel)",
   "language": "python",
   "name": "python3"
  },
  "language_info": {
   "codemirror_mode": {
    "name": "ipython",
    "version": 3
   },
   "file_extension": ".py",
   "mimetype": "text/x-python",
   "name": "python",
   "nbconvert_exporter": "python",
   "pygments_lexer": "ipython3",
   "version": "3.9.6"
  }
 },
 "nbformat": 4,
 "nbformat_minor": 5
}
